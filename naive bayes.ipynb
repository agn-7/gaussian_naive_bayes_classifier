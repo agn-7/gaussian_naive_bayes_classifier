{
 "cells": [
  {
   "cell_type": "markdown",
   "metadata": {},
   "source": [
    "<div class=\"alert alert-block alert-info\">\n",
    " Naive Bayes Classifier<br>\n",
    "\n",
    "\n",
    "</div>"
   ]
  },
  {
   "cell_type": "code",
   "execution_count": 2,
   "metadata": {},
   "outputs": [],
   "source": [
    "import pandas as pd\n",
    "import numpy as np"
   ]
  },
  {
   "cell_type": "markdown",
   "metadata": {},
   "source": [
    "## Our Dataset example"
   ]
  },
  {
   "cell_type": "code",
   "execution_count": 3,
   "metadata": {},
   "outputs": [],
   "source": [
    "data = [[\"sunny\" , 30 , \"high\" , False , \"NO\"] , [\"overcast\" , 35 , \"high\" , False , \"YES\"],[\"rainy\" , 23 , \"high\" , False , \"NO\"] ,\n",
    "        [\"sunny\" , 31 , \"normal\" , False , \"YES\"] ,[\"rainy\" , 30 , \"high\" , True , \"NO\"] ,[\"sunny\" , 26 , \"normal\" , False , \"YES\"]]\n",
    "data = pd.DataFrame(data , columns =[\"Outlook\" , \"Temprature\" , \"Humidity\" , \"Windy\" , \"Play\"] )"
   ]
  },
  {
   "cell_type": "code",
   "execution_count": 4,
   "metadata": {},
   "outputs": [
    {
     "data": {
      "text/html": [
       "<div>\n",
       "<style scoped>\n",
       "    .dataframe tbody tr th:only-of-type {\n",
       "        vertical-align: middle;\n",
       "    }\n",
       "\n",
       "    .dataframe tbody tr th {\n",
       "        vertical-align: top;\n",
       "    }\n",
       "\n",
       "    .dataframe thead th {\n",
       "        text-align: right;\n",
       "    }\n",
       "</style>\n",
       "<table border=\"1\" class=\"dataframe\">\n",
       "  <thead>\n",
       "    <tr style=\"text-align: right;\">\n",
       "      <th></th>\n",
       "      <th>Outlook</th>\n",
       "      <th>Temprature</th>\n",
       "      <th>Humidity</th>\n",
       "      <th>Windy</th>\n",
       "      <th>Play</th>\n",
       "    </tr>\n",
       "  </thead>\n",
       "  <tbody>\n",
       "    <tr>\n",
       "      <td>0</td>\n",
       "      <td>sunny</td>\n",
       "      <td>30</td>\n",
       "      <td>high</td>\n",
       "      <td>False</td>\n",
       "      <td>NO</td>\n",
       "    </tr>\n",
       "    <tr>\n",
       "      <td>1</td>\n",
       "      <td>overcast</td>\n",
       "      <td>35</td>\n",
       "      <td>high</td>\n",
       "      <td>False</td>\n",
       "      <td>YES</td>\n",
       "    </tr>\n",
       "    <tr>\n",
       "      <td>2</td>\n",
       "      <td>rainy</td>\n",
       "      <td>23</td>\n",
       "      <td>high</td>\n",
       "      <td>False</td>\n",
       "      <td>NO</td>\n",
       "    </tr>\n",
       "    <tr>\n",
       "      <td>3</td>\n",
       "      <td>sunny</td>\n",
       "      <td>31</td>\n",
       "      <td>normal</td>\n",
       "      <td>False</td>\n",
       "      <td>YES</td>\n",
       "    </tr>\n",
       "    <tr>\n",
       "      <td>4</td>\n",
       "      <td>rainy</td>\n",
       "      <td>30</td>\n",
       "      <td>high</td>\n",
       "      <td>True</td>\n",
       "      <td>NO</td>\n",
       "    </tr>\n",
       "    <tr>\n",
       "      <td>5</td>\n",
       "      <td>sunny</td>\n",
       "      <td>26</td>\n",
       "      <td>normal</td>\n",
       "      <td>False</td>\n",
       "      <td>YES</td>\n",
       "    </tr>\n",
       "  </tbody>\n",
       "</table>\n",
       "</div>"
      ],
      "text/plain": [
       "    Outlook  Temprature Humidity  Windy Play\n",
       "0     sunny          30     high  False   NO\n",
       "1  overcast          35     high  False  YES\n",
       "2     rainy          23     high  False   NO\n",
       "3     sunny          31   normal  False  YES\n",
       "4     rainy          30     high   True   NO\n",
       "5     sunny          26   normal  False  YES"
      ]
     },
     "execution_count": 4,
     "metadata": {},
     "output_type": "execute_result"
    }
   ],
   "source": [
    "pd.set_option('display.max_columns', None)\n",
    "data.head(100)"
   ]
  },
  {
   "cell_type": "code",
   "execution_count": 5,
   "metadata": {},
   "outputs": [],
   "source": [
    "# index of label column in dataset\n",
    "i_label = len(data.columns) -1"
   ]
  },
  {
   "cell_type": "code",
   "execution_count": 6,
   "metadata": {},
   "outputs": [
    {
     "data": {
      "text/plain": [
       "dtype('int64')"
      ]
     },
     "execution_count": 6,
     "metadata": {},
     "output_type": "execute_result"
    }
   ],
   "source": [
    "data[\"Temprature\"].dtype"
   ]
  },
  {
   "cell_type": "code",
   "execution_count": 7,
   "metadata": {},
   "outputs": [],
   "source": [
    "test = [\"sunny\" , 25 , \"normal\" , False]"
   ]
  },
  {
   "cell_type": "markdown",
   "metadata": {},
   "source": [
    "## Naive Bayes Function : \n",
    "`P(Class = Ci | X (our fetures ) ) = ( P(X|Ci) * P(Ci) ) / P(X) `"
   ]
  },
  {
   "cell_type": "markdown",
   "metadata": {},
   "source": [
    "\n",
    "First , We're going to calcualte P(X | Ci (Play = NO) ) and P(X | Ci (Play = YES )  the main part--> (likelihood)\n",
    "\n",
    "\n",
    "P(X|YES) = P(x1|YES)* P(x2|YES)* P(x3|YES)* P(x4|YES)* ...\n",
    "\n",
    "then the prior part = number of Ci samples / number of samples.\n",
    "\n",
    "\n",
    "\n",
    "for the continues (numerical) features we have to define gaussian function to calculate P(X | Ci)"
   ]
  },
  {
   "cell_type": "code",
   "execution_count": 8,
   "metadata": {},
   "outputs": [],
   "source": [
    "def gaussian(x, mu, sig):\n",
    "    return 1./(np.sqrt(2.*np.pi)*sig)*np.exp(-np.power((x - mu)/sig, 2.)/2)"
   ]
  },
  {
   "cell_type": "markdown",
   "metadata": {},
   "source": [
    "## Now the heart of our program wich is calculating P(X | Ci) for both numerical and categorical features and  multiplying all of them will give us likelihood and after that we have to  multiply the likelihood with prior value in each class, the maximume of classes probability is the label ( class ) that naive bayes classifier will predict"
   ]
  },
  {
   "cell_type": "code",
   "execution_count": 9,
   "metadata": {},
   "outputs": [],
   "source": [
    "def probability(test, n):\n",
    "    \n",
    "    results = []\n",
    "    #calculating probability for each class\n",
    "    for i in range (n):  \n",
    "        \n",
    "        likelihood_ = []\n",
    "        label = (data[data.columns[i_label]].unique())[i]\n",
    "        \n",
    "        for j in range(len(test)):\n",
    "            \n",
    "            #for continues columns\n",
    "            if type(test[j]) == int or type(test[j]) == float :\n",
    "                mean = data[data.columns[j]].mean()\n",
    "                std = np.std(data[data.columns[j]])\n",
    "                likelihood_.append(gaussian(test[j] , mean , std))\n",
    "        \n",
    "            #for categorigal columns    \n",
    "            else:\n",
    "                 likelihood_.append( ( (data[data.columns[j]]== test[j])&(data[data.columns[i_label]]== label )).sum()/ (data[data.columns[i_label]]== label).sum())\n",
    "            \n",
    "        likelihood = np.prod(likelihood_)   \n",
    "        prior = (data[data.columns[i_label]]== label).sum() / data.shape[0]\n",
    "        result = prior*likelihood\n",
    "        results.append(result)\n",
    "        \n",
    "    r = (data[data.columns[i_label]].unique())[results.index(max(results))]\n",
    "    print(\"The probabilty of classes : \", results)\n",
    "    print(\"The test data belongs to {} class\".format(r))         "
   ]
  },
  {
   "cell_type": "code",
   "execution_count": 10,
   "metadata": {},
   "outputs": [
    {
     "name": "stdout",
     "output_type": "stream",
     "text": [
      "The probabilty of classes :  [0.0, 0.012791945767158964]\n",
      "The test data belongs to YES class\n"
     ]
    }
   ],
   "source": [
    "# for binary classes n_labels will always be 2\n",
    "n_labels = len(data[data.columns[i_label]].unique())\n",
    "probability(test,n_labels)"
   ]
  },
  {
   "cell_type": "code",
   "execution_count": null,
   "metadata": {},
   "outputs": [],
   "source": []
  },
  {
   "cell_type": "code",
   "execution_count": null,
   "metadata": {},
   "outputs": [],
   "source": []
  }
 ],
 "metadata": {
  "kernelspec": {
   "display_name": "Python 3",
   "language": "python",
   "name": "python3"
  },
  "language_info": {
   "codemirror_mode": {
    "name": "ipython",
    "version": 3
   },
   "file_extension": ".py",
   "mimetype": "text/x-python",
   "name": "python",
   "nbconvert_exporter": "python",
   "pygments_lexer": "ipython3",
   "version": "3.7.4"
  }
 },
 "nbformat": 4,
 "nbformat_minor": 2
}
