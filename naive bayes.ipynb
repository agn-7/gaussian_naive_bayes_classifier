{
 "cells": [
  {
   "cell_type": "markdown",
   "metadata": {},
   "source": [
    "<div class=\"alert alert-block alert-info\">\n",
    " Naive Bayes Classifier<br>\n",
    "\n",
    "\n",
    "</div>"
   ]
  },
  {
   "cell_type": "code",
   "execution_count": 1,
   "metadata": {},
   "outputs": [],
   "source": [
    "import pandas as pd\n",
    "import numpy as np"
   ]
  },
  {
   "cell_type": "markdown",
   "metadata": {},
   "source": [
    "## Our Dataset example"
   ]
  },
  {
   "cell_type": "code",
   "execution_count": 2,
   "metadata": {},
   "outputs": [],
   "source": [
    "data = [['black', 18, 9.2, 8.1, 2, 'True', 'cat'],\n",
    "        ['orange', 17, 9.1, 9, 1.95, 'True', 'cat'],\n",
    "        ['white', 16, 9, 10, 2.1, 'True', 'cat'],\n",
    "        ['gray', 20.1, 17, 15.5, 5, 'False', 'dog'],\n",
    "        ['brown', 23.5, 20, 20, 6.2, 'False', 'dog'],\n",
    "        ['black', 21, 16.7, 16, 3.3, 'False', 'dog'],\n",
    "        ]\n",
    "data = pd.DataFrame(data, \n",
    "                    columns=['color', 'body length', 'height', \n",
    "                             'weight', 'ear length', 'claws', 'class'\n",
    "                             ])\n"
   ]
  },
  {
   "cell_type": "code",
   "execution_count": 3,
   "metadata": {},
   "outputs": [
    {
     "data": {
      "text/html": [
       "<div>\n",
       "<style scoped>\n",
       "    .dataframe tbody tr th:only-of-type {\n",
       "        vertical-align: middle;\n",
       "    }\n",
       "\n",
       "    .dataframe tbody tr th {\n",
       "        vertical-align: top;\n",
       "    }\n",
       "\n",
       "    .dataframe thead th {\n",
       "        text-align: right;\n",
       "    }\n",
       "</style>\n",
       "<table border=\"1\" class=\"dataframe\">\n",
       "  <thead>\n",
       "    <tr style=\"text-align: right;\">\n",
       "      <th></th>\n",
       "      <th>color</th>\n",
       "      <th>body length</th>\n",
       "      <th>height</th>\n",
       "      <th>weight</th>\n",
       "      <th>ear length</th>\n",
       "      <th>claws</th>\n",
       "      <th>class</th>\n",
       "    </tr>\n",
       "  </thead>\n",
       "  <tbody>\n",
       "    <tr>\n",
       "      <th>0</th>\n",
       "      <td>black</td>\n",
       "      <td>18.0</td>\n",
       "      <td>9.2</td>\n",
       "      <td>8.1</td>\n",
       "      <td>2.00</td>\n",
       "      <td>True</td>\n",
       "      <td>cat</td>\n",
       "    </tr>\n",
       "    <tr>\n",
       "      <th>1</th>\n",
       "      <td>orange</td>\n",
       "      <td>17.0</td>\n",
       "      <td>9.1</td>\n",
       "      <td>9.0</td>\n",
       "      <td>1.95</td>\n",
       "      <td>True</td>\n",
       "      <td>cat</td>\n",
       "    </tr>\n",
       "    <tr>\n",
       "      <th>2</th>\n",
       "      <td>white</td>\n",
       "      <td>16.0</td>\n",
       "      <td>9.0</td>\n",
       "      <td>10.0</td>\n",
       "      <td>2.10</td>\n",
       "      <td>True</td>\n",
       "      <td>cat</td>\n",
       "    </tr>\n",
       "    <tr>\n",
       "      <th>3</th>\n",
       "      <td>gray</td>\n",
       "      <td>20.1</td>\n",
       "      <td>17.0</td>\n",
       "      <td>15.5</td>\n",
       "      <td>5.00</td>\n",
       "      <td>False</td>\n",
       "      <td>dog</td>\n",
       "    </tr>\n",
       "    <tr>\n",
       "      <th>4</th>\n",
       "      <td>brown</td>\n",
       "      <td>23.5</td>\n",
       "      <td>20.0</td>\n",
       "      <td>20.0</td>\n",
       "      <td>6.20</td>\n",
       "      <td>False</td>\n",
       "      <td>dog</td>\n",
       "    </tr>\n",
       "    <tr>\n",
       "      <th>5</th>\n",
       "      <td>black</td>\n",
       "      <td>21.0</td>\n",
       "      <td>16.7</td>\n",
       "      <td>16.0</td>\n",
       "      <td>3.30</td>\n",
       "      <td>False</td>\n",
       "      <td>dog</td>\n",
       "    </tr>\n",
       "  </tbody>\n",
       "</table>\n",
       "</div>"
      ],
      "text/plain": [
       "<div>\n",
       "<style scoped>\n",
       "    .dataframe tbody tr th:only-of-type {\n",
       "        vertical-align: middle;\n",
       "    }\n",
       "\n",
       "    .dataframe tbody tr th {\n",
       "        vertical-align: top;\n",
       "    }\n",
       "\n",
       "    .dataframe thead th {\n",
       "        text-align: right;\n",
       "    }\n",
       "</style>\n",
       "<table border=\"1\" class=\"dataframe\">\n",
       "  <thead>\n",
       "    <tr style=\"text-align: right;\">\n",
       "      <th></th>\n",
       "      <th>color</th>\n",
       "      <th>body length</th>\n",
       "      <th>height</th>\n",
       "      <th>weight</th>\n",
       "      <th>ear length</th>\n",
       "      <th>claws</th>\n",
       "      <th>class</th>\n",
       "    </tr>\n",
       "  </thead>\n",
       "  <tbody>\n",
       "    <tr>\n",
       "      <th>0</th>\n",
       "      <td>black</td>\n",
       "      <td>18.0</td>\n",
       "      <td>9.2</td>\n",
       "      <td>8.1</td>\n",
       "      <td>2.00</td>\n",
       "      <td>True</td>\n",
       "      <td>cat</td>\n",
       "    </tr>\n",
       "    <tr>\n",
       "      <th>1</th>\n",
       "      <td>orange</td>\n",
       "      <td>17.0</td>\n",
       "      <td>9.1</td>\n",
       "      <td>9.0</td>\n",
       "      <td>1.95</td>\n",
       "      <td>True</td>\n",
       "      <td>cat</td>\n",
       "    </tr>\n",
       "    <tr>\n",
       "      <th>2</th>\n",
       "      <td>white</td>\n",
       "      <td>16.0</td>\n",
       "      <td>9.0</td>\n",
       "      <td>10.0</td>\n",
       "      <td>2.10</td>\n",
       "      <td>True</td>\n",
       "      <td>cat</td>\n",
       "    </tr>\n",
       "    <tr>\n",
       "      <th>3</th>\n",
       "      <td>gray</td>\n",
       "      <td>20.1</td>\n",
       "      <td>17.0</td>\n",
       "      <td>15.5</td>\n",
       "      <td>5.00</td>\n",
       "      <td>False</td>\n",
       "      <td>dog</td>\n",
       "    </tr>\n",
       "    <tr>\n",
       "      <th>4</th>\n",
       "      <td>brown</td>\n",
       "      <td>23.5</td>\n",
       "      <td>20.0</td>\n",
       "      <td>20.0</td>\n",
       "      <td>6.20</td>\n",
       "      <td>False</td>\n",
       "      <td>dog</td>\n",
       "    </tr>\n",
       "    <tr>\n",
       "      <th>5</th>\n",
       "      <td>black</td>\n",
       "      <td>21.0</td>\n",
       "      <td>16.7</td>\n",
       "      <td>16.0</td>\n",
       "      <td>3.30</td>\n",
       "      <td>False</td>\n",
       "      <td>dog</td>\n",
       "    </tr>\n",
       "  </tbody>\n",
       "</table>\n",
       "</div>"
      ]
     },
     "execution_count": 3,
     "metadata": {},
     "output_type": "execute_result"
    }
   ],
   "source": [
    "pd.set_option('display.max_columns', None)\n",
    "data.head(100)\n"
   ]
  },
  {
   "cell_type": "code",
   "execution_count": 4,
   "metadata": {},
   "outputs": [],
   "source": [
    "# index of label column in dataset\n",
    "i_label = len(data.columns) - 1\n"
   ]
  },
  {
   "cell_type": "code",
   "execution_count": 5,
   "metadata": {},
   "outputs": [],
   "source": [
    "\n",
    "test = ['gray', 22, 15, 12, 4.5, 'False']\n"
   ]
  },
  {
   "cell_type": "markdown",
   "metadata": {},
   "source": [
    "## Naive Bayes Function : \n",
    "`P(Class = Ci | X (our fetures ) ) = ( P(X|Ci) * P(Ci) ) / P(X) `"
   ]
  },
  {
   "cell_type": "markdown",
   "metadata": {},
   "source": [
    "\n",
    "First , We're going to calcualte P(X | Ci (Play = NO) ) and P(X | Ci (Play = YES )  the main part--> (likelihood)\n",
    "\n",
    "\n",
    "P(X|YES) = P(x1|YES)* P(x2|YES)* P(x3|YES)* P(x4|YES)* ...\n",
    "\n",
    "then the prior part = number of Ci samples / number of samples.\n",
    "\n",
    "\n",
    "\n",
    "for the continues (numerical) features we have to define gaussian function to calculate P(X | Ci)"
   ]
  },
  {
   "cell_type": "code",
   "execution_count": 6,
   "metadata": {},
   "outputs": [],
   "source": [
    "def gaussian(x, mu, sig):\n",
    "    return 1./(np.sqrt(2.*np.pi)*sig)*np.exp(-np.power((x - mu)/sig, 2.)/2)\n"
   ]
  },
  {
   "cell_type": "markdown",
   "metadata": {},
   "source": [
    "### Now the heart of our program wich is calculating P(X | Ci) for both numerical and categorical features and  multiplying all of them will give us likelihood and after that we have to  multiply the likelihood with prior value in each class, the maximume of classes probability is the label (class) that naive bayes classifier will predict."
   ]
  },
  {
   "cell_type": "code",
   "execution_count": 8,
   "metadata": {},
   "outputs": [],
   "source": [
    "def probability(test, n):\n",
    "    results = []\n",
    "    # calculating probability for each class\n",
    "    for i in range(n):  \n",
    "        likelihood_ = []\n",
    "        label = (data[data.columns[i_label]].unique())[i]\n",
    "        \n",
    "        for j in range(len(test)):\n",
    "            # for continues columns\n",
    "            if type(test[j]) == int or type(test[j]) == float :\n",
    "                mean = data[data.columns[j]].mean()\n",
    "                std = np.std(data[data.columns[j]])\n",
    "                likelihood_.append(gaussian(test[j] , mean , std))\n",
    "        \n",
    "            # for categorical columns    \n",
    "            else:\n",
    "                likelihood_.append(((data[data.columns[j]] == test[j]) & (data[data.columns[i_label]] == label)).sum() / (data[data.columns[i_label]] == label).sum())\n",
    "            \n",
    "        likelihood = np.prod(likelihood_)   \n",
    "        prior = (data[data.columns[i_label]]== label).sum() / data.shape[0]\n",
    "        result = prior*likelihood\n",
    "        results.append(result)\n",
    "        \n",
    "    r = (data[data.columns[i_label]].unique())[results.index(max(results))]\n",
    "    print(\"The probability of classes : \", results)\n",
    "    print(\"The test data belongs to the {} class\".format(r))\n"
   ]
  },
  {
   "cell_type": "code",
   "execution_count": 13,
   "metadata": {},
   "outputs": [
    {
     "name": "stdout",
     "output_type": "stream",
     "text": [
      "The probabilty of classes :  [0.0, 2.137623820845661e-05]\nThe test data belongs to dog class\n"
     ]
    }
   ],
   "source": [
    "# for binary classes n_labels will always be 2\n",
    "n_labels = len(data[data.columns[i_label]].unique())\n",
    "probability(test, n_labels)\n"
   ]
  },
  {
   "cell_type": "code",
   "execution_count": null,
   "metadata": {},
   "outputs": [],
   "source": []
  }
 ],
 "metadata": {
  "kernelspec": {
   "display_name": "Python 3",
   "language": "python",
   "name": "python3"
  },
  "language_info": {
   "codemirror_mode": {
    "name": "ipython",
    "version": 3
   },
   "file_extension": ".py",
   "mimetype": "text/x-python",
   "name": "python",
   "nbconvert_exporter": "python",
   "pygments_lexer": "ipython3",
   "version": "3.7.4"
  }
 },
 "nbformat": 4,
 "nbformat_minor": 2
}
